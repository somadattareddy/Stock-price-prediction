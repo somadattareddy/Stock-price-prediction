{
  "nbformat": 4,
  "nbformat_minor": 0,
  "metadata": {
    "colab": {
      "name": "Untitled0.ipynb",
      "provenance": [],
      "collapsed_sections": []
    },
    "kernelspec": {
      "name": "python3",
      "display_name": "Python 3"
    },
    "language_info": {
      "name": "python"
    }
  },
  "cells": [
    {
      "cell_type": "markdown",
      "source": [
        "#Stock Price Prediction using Machine Learning\n",
        "Using the LSTM (Long Short Term Memory) artificial neural network on AAPL's past stock data to predict the stock price"
      ],
      "metadata": {
        "id": "SyOd8JzRXeUC"
      }
    },
    {
      "cell_type": "markdown",
      "source": [
        "### LSTM is used for sequence prediction problems and it is extremely effective as it stores past info that is important and forgets the info that is not."
      ],
      "metadata": {
        "id": "q1ThGPI0YLaU"
      }
    },
    {
      "cell_type": "code",
      "source": [
        "#Importing The Neccesary Libraries\n",
        "import math\n",
        "import pandas_datareader as web\n",
        "import numpy as np\n",
        "import pandas as pd\n",
        "from sklearn.preprocessing import MinMaxScaler\n",
        "from keras.models import Sequential\n",
        "from keras.layers import Dense, LSTM\n",
        "import matplotlib.pyplot as plt\n",
        "plt.style.use('fivethirtyeight')"
      ],
      "metadata": {
        "id": "DKfXu4n8ZMYH"
      },
      "execution_count": 109,
      "outputs": []
    },
    {
      "cell_type": "code",
      "source": [
        "# !pip install --upgrade pandas-datareader\n",
        "\n",
        "# !pip install --upgrade pandas\n",
        "#Restart runtime if it errors out!"
      ],
      "metadata": {
        "id": "bEfrpBzfcRes"
      },
      "execution_count": 110,
      "outputs": []
    },
    {
      "cell_type": "code",
      "source": [
        "#Get The Stock Data\n",
        "data_source = 'yahoo'\n",
        "start_date = '2017-01-01'\n",
        "end_date = '2022-11-30'\n",
        "df = web.DataReader('AAPL', data_source, start_date, end_date)\n",
        "\n",
        "df"
      ],
      "metadata": {
        "colab": {
          "base_uri": "https://localhost:8080/",
          "height": 498
        },
        "id": "szwYkpnjaSF2",
        "outputId": "8293cc70-d632-47f6-cff4-ac5a849d9400"
      },
      "execution_count": 111,
      "outputs": [
        {
          "output_type": "execute_result",
          "data": {
            "text/plain": [
              "                  High         Low        Open       Close       Volume  \\\n",
              "Date                                                                      \n",
              "2017-01-03   29.082500   28.690001   28.950001   29.037500  115127600.0   \n",
              "2017-01-04   29.127501   28.937500   28.962500   29.004999   84472400.0   \n",
              "2017-01-05   29.215000   28.952499   28.980000   29.152500   88774400.0   \n",
              "2017-01-06   29.540001   29.117500   29.195000   29.477501  127007600.0   \n",
              "2017-01-09   29.857500   29.485001   29.487499   29.747499  134247600.0   \n",
              "...                ...         ...         ...         ...          ...   \n",
              "2022-08-04  167.190002  164.429993  166.009995  165.809998   55474100.0   \n",
              "2022-08-05  165.850006  163.000000  163.210007  165.350006   56646600.0   \n",
              "2022-08-08  167.809998  164.199997  166.369995  164.869995   60276900.0   \n",
              "2022-08-09  165.820007  163.250000  164.020004  164.919998   63086000.0   \n",
              "2022-08-10  168.649994  166.899994  167.679993  168.085007   36755211.0   \n",
              "\n",
              "             Adj Close  \n",
              "Date                    \n",
              "2017-01-03   27.219835  \n",
              "2017-01-04   27.189367  \n",
              "2017-01-05   27.327635  \n",
              "2017-01-06   27.632292  \n",
              "2017-01-09   27.885391  \n",
              "...                ...  \n",
              "2022-08-04  165.580002  \n",
              "2022-08-05  165.350006  \n",
              "2022-08-08  164.869995  \n",
              "2022-08-09  164.919998  \n",
              "2022-08-10  168.085007  \n",
              "\n",
              "[1411 rows x 6 columns]"
            ],
            "text/html": [
              "\n",
              "  <div id=\"df-631f064e-1f58-46ed-ac54-b9d9132798e7\">\n",
              "    <div class=\"colab-df-container\">\n",
              "      <div>\n",
              "<style scoped>\n",
              "    .dataframe tbody tr th:only-of-type {\n",
              "        vertical-align: middle;\n",
              "    }\n",
              "\n",
              "    .dataframe tbody tr th {\n",
              "        vertical-align: top;\n",
              "    }\n",
              "\n",
              "    .dataframe thead th {\n",
              "        text-align: right;\n",
              "    }\n",
              "</style>\n",
              "<table border=\"1\" class=\"dataframe\">\n",
              "  <thead>\n",
              "    <tr style=\"text-align: right;\">\n",
              "      <th></th>\n",
              "      <th>High</th>\n",
              "      <th>Low</th>\n",
              "      <th>Open</th>\n",
              "      <th>Close</th>\n",
              "      <th>Volume</th>\n",
              "      <th>Adj Close</th>\n",
              "    </tr>\n",
              "    <tr>\n",
              "      <th>Date</th>\n",
              "      <th></th>\n",
              "      <th></th>\n",
              "      <th></th>\n",
              "      <th></th>\n",
              "      <th></th>\n",
              "      <th></th>\n",
              "    </tr>\n",
              "  </thead>\n",
              "  <tbody>\n",
              "    <tr>\n",
              "      <th>2017-01-03</th>\n",
              "      <td>29.082500</td>\n",
              "      <td>28.690001</td>\n",
              "      <td>28.950001</td>\n",
              "      <td>29.037500</td>\n",
              "      <td>115127600.0</td>\n",
              "      <td>27.219835</td>\n",
              "    </tr>\n",
              "    <tr>\n",
              "      <th>2017-01-04</th>\n",
              "      <td>29.127501</td>\n",
              "      <td>28.937500</td>\n",
              "      <td>28.962500</td>\n",
              "      <td>29.004999</td>\n",
              "      <td>84472400.0</td>\n",
              "      <td>27.189367</td>\n",
              "    </tr>\n",
              "    <tr>\n",
              "      <th>2017-01-05</th>\n",
              "      <td>29.215000</td>\n",
              "      <td>28.952499</td>\n",
              "      <td>28.980000</td>\n",
              "      <td>29.152500</td>\n",
              "      <td>88774400.0</td>\n",
              "      <td>27.327635</td>\n",
              "    </tr>\n",
              "    <tr>\n",
              "      <th>2017-01-06</th>\n",
              "      <td>29.540001</td>\n",
              "      <td>29.117500</td>\n",
              "      <td>29.195000</td>\n",
              "      <td>29.477501</td>\n",
              "      <td>127007600.0</td>\n",
              "      <td>27.632292</td>\n",
              "    </tr>\n",
              "    <tr>\n",
              "      <th>2017-01-09</th>\n",
              "      <td>29.857500</td>\n",
              "      <td>29.485001</td>\n",
              "      <td>29.487499</td>\n",
              "      <td>29.747499</td>\n",
              "      <td>134247600.0</td>\n",
              "      <td>27.885391</td>\n",
              "    </tr>\n",
              "    <tr>\n",
              "      <th>...</th>\n",
              "      <td>...</td>\n",
              "      <td>...</td>\n",
              "      <td>...</td>\n",
              "      <td>...</td>\n",
              "      <td>...</td>\n",
              "      <td>...</td>\n",
              "    </tr>\n",
              "    <tr>\n",
              "      <th>2022-08-04</th>\n",
              "      <td>167.190002</td>\n",
              "      <td>164.429993</td>\n",
              "      <td>166.009995</td>\n",
              "      <td>165.809998</td>\n",
              "      <td>55474100.0</td>\n",
              "      <td>165.580002</td>\n",
              "    </tr>\n",
              "    <tr>\n",
              "      <th>2022-08-05</th>\n",
              "      <td>165.850006</td>\n",
              "      <td>163.000000</td>\n",
              "      <td>163.210007</td>\n",
              "      <td>165.350006</td>\n",
              "      <td>56646600.0</td>\n",
              "      <td>165.350006</td>\n",
              "    </tr>\n",
              "    <tr>\n",
              "      <th>2022-08-08</th>\n",
              "      <td>167.809998</td>\n",
              "      <td>164.199997</td>\n",
              "      <td>166.369995</td>\n",
              "      <td>164.869995</td>\n",
              "      <td>60276900.0</td>\n",
              "      <td>164.869995</td>\n",
              "    </tr>\n",
              "    <tr>\n",
              "      <th>2022-08-09</th>\n",
              "      <td>165.820007</td>\n",
              "      <td>163.250000</td>\n",
              "      <td>164.020004</td>\n",
              "      <td>164.919998</td>\n",
              "      <td>63086000.0</td>\n",
              "      <td>164.919998</td>\n",
              "    </tr>\n",
              "    <tr>\n",
              "      <th>2022-08-10</th>\n",
              "      <td>168.649994</td>\n",
              "      <td>166.899994</td>\n",
              "      <td>167.679993</td>\n",
              "      <td>168.085007</td>\n",
              "      <td>36755211.0</td>\n",
              "      <td>168.085007</td>\n",
              "    </tr>\n",
              "  </tbody>\n",
              "</table>\n",
              "<p>1411 rows × 6 columns</p>\n",
              "</div>\n",
              "      <button class=\"colab-df-convert\" onclick=\"convertToInteractive('df-631f064e-1f58-46ed-ac54-b9d9132798e7')\"\n",
              "              title=\"Convert this dataframe to an interactive table.\"\n",
              "              style=\"display:none;\">\n",
              "        \n",
              "  <svg xmlns=\"http://www.w3.org/2000/svg\" height=\"24px\"viewBox=\"0 0 24 24\"\n",
              "       width=\"24px\">\n",
              "    <path d=\"M0 0h24v24H0V0z\" fill=\"none\"/>\n",
              "    <path d=\"M18.56 5.44l.94 2.06.94-2.06 2.06-.94-2.06-.94-.94-2.06-.94 2.06-2.06.94zm-11 1L8.5 8.5l.94-2.06 2.06-.94-2.06-.94L8.5 2.5l-.94 2.06-2.06.94zm10 10l.94 2.06.94-2.06 2.06-.94-2.06-.94-.94-2.06-.94 2.06-2.06.94z\"/><path d=\"M17.41 7.96l-1.37-1.37c-.4-.4-.92-.59-1.43-.59-.52 0-1.04.2-1.43.59L10.3 9.45l-7.72 7.72c-.78.78-.78 2.05 0 2.83L4 21.41c.39.39.9.59 1.41.59.51 0 1.02-.2 1.41-.59l7.78-7.78 2.81-2.81c.8-.78.8-2.07 0-2.86zM5.41 20L4 18.59l7.72-7.72 1.47 1.35L5.41 20z\"/>\n",
              "  </svg>\n",
              "      </button>\n",
              "      \n",
              "  <style>\n",
              "    .colab-df-container {\n",
              "      display:flex;\n",
              "      flex-wrap:wrap;\n",
              "      gap: 12px;\n",
              "    }\n",
              "\n",
              "    .colab-df-convert {\n",
              "      background-color: #E8F0FE;\n",
              "      border: none;\n",
              "      border-radius: 50%;\n",
              "      cursor: pointer;\n",
              "      display: none;\n",
              "      fill: #1967D2;\n",
              "      height: 32px;\n",
              "      padding: 0 0 0 0;\n",
              "      width: 32px;\n",
              "    }\n",
              "\n",
              "    .colab-df-convert:hover {\n",
              "      background-color: #E2EBFA;\n",
              "      box-shadow: 0px 1px 2px rgba(60, 64, 67, 0.3), 0px 1px 3px 1px rgba(60, 64, 67, 0.15);\n",
              "      fill: #174EA6;\n",
              "    }\n",
              "\n",
              "    [theme=dark] .colab-df-convert {\n",
              "      background-color: #3B4455;\n",
              "      fill: #D2E3FC;\n",
              "    }\n",
              "\n",
              "    [theme=dark] .colab-df-convert:hover {\n",
              "      background-color: #434B5C;\n",
              "      box-shadow: 0px 1px 3px 1px rgba(0, 0, 0, 0.15);\n",
              "      filter: drop-shadow(0px 1px 2px rgba(0, 0, 0, 0.3));\n",
              "      fill: #FFFFFF;\n",
              "    }\n",
              "  </style>\n",
              "\n",
              "      <script>\n",
              "        const buttonEl =\n",
              "          document.querySelector('#df-631f064e-1f58-46ed-ac54-b9d9132798e7 button.colab-df-convert');\n",
              "        buttonEl.style.display =\n",
              "          google.colab.kernel.accessAllowed ? 'block' : 'none';\n",
              "\n",
              "        async function convertToInteractive(key) {\n",
              "          const element = document.querySelector('#df-631f064e-1f58-46ed-ac54-b9d9132798e7');\n",
              "          const dataTable =\n",
              "            await google.colab.kernel.invokeFunction('convertToInteractive',\n",
              "                                                     [key], {});\n",
              "          if (!dataTable) return;\n",
              "\n",
              "          const docLinkHtml = 'Like what you see? Visit the ' +\n",
              "            '<a target=\"_blank\" href=https://colab.research.google.com/notebooks/data_table.ipynb>data table notebook</a>'\n",
              "            + ' to learn more about interactive tables.';\n",
              "          element.innerHTML = '';\n",
              "          dataTable['output_type'] = 'display_data';\n",
              "          await google.colab.output.renderOutput(dataTable, element);\n",
              "          const docLink = document.createElement('div');\n",
              "          docLink.innerHTML = docLinkHtml;\n",
              "          element.appendChild(docLink);\n",
              "        }\n",
              "      </script>\n",
              "    </div>\n",
              "  </div>\n",
              "  "
            ]
          },
          "metadata": {},
          "execution_count": 111
        }
      ]
    },
    {
      "cell_type": "code",
      "source": [
        "#Closing price history\n",
        "plt.figure(figsize=(16,8))\n",
        "plt.title('Closing Price History')\n",
        "plt.plot(df['Close'])\n",
        "plt.xlabel('Date',fontsize=18)\n",
        "plt.ylabel('Close Price (in USD)',fontsize=18)\n",
        "plt.show()"
      ],
      "metadata": {
        "colab": {
          "base_uri": "https://localhost:8080/",
          "height": 558
        },
        "id": "f81MVyXSdBS9",
        "outputId": "cf9648d5-7c32-47e8-ef17-9a9fe933bca5"
      },
      "execution_count": 112,
      "outputs": [
        {
          "output_type": "display_data",
          "data": {
            "text/plain": [
              "<Figure size 1152x576 with 1 Axes>"
            ],
            "image/png": "[encoded data removed]"
          },
          "metadata": {}
        }
      ]
    },
    {
      "cell_type": "markdown",
      "source": [
        "##We can now visualize the closing price of the stock and a general upward trend is seen, which usually means a strong buy.\n",
        "\n",
        "#DISCLAIMER: This is not financial advise."
      ],
      "metadata": {
        "id": "GQtWkAFveCcs"
      }
    },
    {
      "cell_type": "code",
      "source": [
        "#Create a new datafram with only the 'Close' column\n",
        "close_data = df.filter(['Close'])\n",
        "#Convert the dataframe into a numpy array\n",
        "dataset = close_data.values\n",
        "#Get the number of rows to trainthe model on (say 80% of the available data)\n",
        "training_data_len = math.ceil(len(dataset)*.8)\n",
        "\n",
        "training_data_len"
      ],
      "metadata": {
        "colab": {
          "base_uri": "https://localhost:8080/"
        },
        "id": "Q-RLlM2afIw8",
        "outputId": "9d3ecf0a-c574-47d0-d6d6-f555b1d3278a"
      },
      "execution_count": 113,
      "outputs": [
        {
          "output_type": "execute_result",
          "data": {
            "text/plain": [
              "1129"
            ]
          },
          "metadata": {},
          "execution_count": 113
        }
      ]
    },
    {
      "cell_type": "code",
      "source": [
        "#Scaling the data (Preprocessing)\n",
        "scaler = MinMaxScaler(feature_range=(0,1))\n",
        "scaled_data = scaler.fit_transform(dataset)\n",
        "\n",
        "scaled_data"
      ],
      "metadata": {
        "colab": {
          "base_uri": "https://localhost:8080/"
        },
        "id": "efeK8AQwf-sm",
        "outputId": "f53f2254-07ad-4cfb-9ab7-5eb382fa3b89"
      },
      "execution_count": 114,
      "outputs": [
        {
          "output_type": "execute_result",
          "data": {
            "text/plain": [
              "array([[2.12419344e-04],\n",
              "       [0.00000000e+00],\n",
              "       [9.64027295e-04],\n",
              "       ...,\n",
              "       [8.87977518e-01],\n",
              "       [8.88304324e-01],\n",
              "       [9.08989979e-01]])"
            ]
          },
          "metadata": {},
          "execution_count": 114
        }
      ]
    },
    {
      "cell_type": "code",
      "source": [
        "#Create the scaled training dataset\n",
        "train_data = scaled_data[0:training_data_len,:]\n",
        "#Split the data into x_train and y_train data sets\n",
        "x_train=[]\n",
        "y_train=[]\n",
        "\n",
        "for i in range(60,len(train_data)):\n",
        "  x_train.append(train_data[i-60:i,0])\n",
        "  y_train.append(train_data[i, 0])\n",
        "  if i<= 61:\n",
        "    print(x_train)\n",
        "    print(y_train)\n",
        "    print()"
      ],
      "metadata": {
        "colab": {
          "base_uri": "https://localhost:8080/"
        },
        "id": "UHu96TMzg4oK",
        "outputId": "f2b9a5ae-c7fe-4a44-c052-170f98c1e5c3"
      },
      "execution_count": 115,
      "outputs": [
        {
          "output_type": "stream",
          "name": "stdout",
          "text": [
            "[array([0.00021242, 0.        , 0.00096403, 0.00308815, 0.00485278,\n",
            "       0.00504886, 0.00609458, 0.00527761, 0.00493449, 0.00650306,\n",
            "       0.00648672, 0.00614359, 0.00650306, 0.00663378, 0.00645405,\n",
            "       0.00957485, 0.0096729 , 0.00968923, 0.00916637, 0.00870887,\n",
            "       0.02079998, 0.02044051, 0.02133918, 0.02331623, 0.02534231,\n",
            "       0.02617561, 0.02679651, 0.02630633, 0.02821803, 0.03104475,\n",
            "       0.03184536, 0.03158395, 0.0321885 , 0.03378975, 0.03445967,\n",
            "       0.03351198, 0.0337244 , 0.03416554, 0.0342636 , 0.0388386 ,\n",
            "       0.03748245, 0.03882227, 0.03810333, 0.03839745, 0.0375478 ,\n",
            "       0.03702493, 0.03777655, 0.03787458, 0.03753147, 0.03993335,\n",
            "       0.04030915, 0.0391654 , 0.04156729, 0.0389203 , 0.04150192,\n",
            "       0.04068495, 0.04022745, 0.0406196 , 0.04539069, 0.04591353])]\n",
            "[0.0456030797713296]\n",
            "\n",
            "[array([0.00021242, 0.        , 0.00096403, 0.00308815, 0.00485278,\n",
            "       0.00504886, 0.00609458, 0.00527761, 0.00493449, 0.00650306,\n",
            "       0.00648672, 0.00614359, 0.00650306, 0.00663378, 0.00645405,\n",
            "       0.00957485, 0.0096729 , 0.00968923, 0.00916637, 0.00870887,\n",
            "       0.02079998, 0.02044051, 0.02133918, 0.02331623, 0.02534231,\n",
            "       0.02617561, 0.02679651, 0.02630633, 0.02821803, 0.03104475,\n",
            "       0.03184536, 0.03158395, 0.0321885 , 0.03378975, 0.03445967,\n",
            "       0.03351198, 0.0337244 , 0.03416554, 0.0342636 , 0.0388386 ,\n",
            "       0.03748245, 0.03882227, 0.03810333, 0.03839745, 0.0375478 ,\n",
            "       0.03702493, 0.03777655, 0.03787458, 0.03753147, 0.03993335,\n",
            "       0.04030915, 0.0391654 , 0.04156729, 0.0389203 , 0.04150192,\n",
            "       0.04068495, 0.04022745, 0.0406196 , 0.04539069, 0.04591353]), array([0.        , 0.00096403, 0.00308815, 0.00485278, 0.00504886,\n",
            "       0.00609458, 0.00527761, 0.00493449, 0.00650306, 0.00648672,\n",
            "       0.00614359, 0.00650306, 0.00663378, 0.00645405, 0.00957485,\n",
            "       0.0096729 , 0.00968923, 0.00916637, 0.00870887, 0.02079998,\n",
            "       0.02044051, 0.02133918, 0.02331623, 0.02534231, 0.02617561,\n",
            "       0.02679651, 0.02630633, 0.02821803, 0.03104475, 0.03184536,\n",
            "       0.03158395, 0.0321885 , 0.03378975, 0.03445967, 0.03351198,\n",
            "       0.0337244 , 0.03416554, 0.0342636 , 0.0388386 , 0.03748245,\n",
            "       0.03882227, 0.03810333, 0.03839745, 0.0375478 , 0.03702493,\n",
            "       0.03777655, 0.03787458, 0.03753147, 0.03993335, 0.04030915,\n",
            "       0.0391654 , 0.04156729, 0.0389203 , 0.04150192, 0.04068495,\n",
            "       0.04022745, 0.0406196 , 0.04539069, 0.04591353, 0.04560308])]\n",
            "[0.0456030797713296, 0.04516193565531362]\n",
            "\n"
          ]
        }
      ]
    },
    {
      "cell_type": "code",
      "source": [
        "#Convert the x_train and y_train data sets to numpy arrays\n",
        "x_train,y_train = np.array(x_train),np.array(y_train)"
      ],
      "metadata": {
        "id": "quAgY4kKifpx"
      },
      "execution_count": 116,
      "outputs": []
    },
    {
      "cell_type": "code",
      "source": [
        "#Reshape the data\n",
        "x_train = np.reshape(x_train,(x_train.shape[0],x_train.shape[1],1))\n",
        "x_train.shape"
      ],
      "metadata": {
        "colab": {
          "base_uri": "https://localhost:8080/"
        },
        "id": "QMb1v1Yji0Hl",
        "outputId": "9485e6ae-4dba-4757-b2a7-e20ea4efaf77"
      },
      "execution_count": 117,
      "outputs": [
        {
          "output_type": "execute_result",
          "data": {
            "text/plain": [
              "(1069, 60, 1)"
            ]
          },
          "metadata": {},
          "execution_count": 117
        }
      ]
    },
    {
      "cell_type": "code",
      "source": [
        "#Building the LSTM model\n",
        "model = Sequential()\n",
        "model.add(LSTM(50,return_sequences=True, input_shape = (x_train.shape[1],1)))\n",
        "model.add(LSTM(50,return_sequences=False))\n",
        "model.add(Dense(25))\n",
        "model.add(Dense(1))"
      ],
      "metadata": {
        "id": "mqvdxc8Hjebe"
      },
      "execution_count": 118,
      "outputs": []
    },
    {
      "cell_type": "code",
      "source": [
        "#Compile the model\n",
        "model.compile(optimizer='adam',loss='mean_squared_error')"
      ],
      "metadata": {
        "id": "SxZIg4b2kny6"
      },
      "execution_count": 119,
      "outputs": []
    },
    {
      "cell_type": "code",
      "source": [
        "#Train the model\n",
        "model.fit(x_train,y_train,batch_size=1,epochs=1)"
      ],
      "metadata": {
        "colab": {
          "base_uri": "https://localhost:8080/"
        },
        "id": "MgQOo982kznQ",
        "outputId": "a5971af9-19a4-4baa-a074-5621b28ad8aa"
      },
      "execution_count": 120,
      "outputs": [
        {
          "output_type": "stream",
          "name": "stdout",
          "text": [
            "1069/1069 [==============================] - 34s 29ms/step - loss: 0.0012\n"
          ]
        },
        {
          "output_type": "execute_result",
          "data": {
            "text/plain": [
              "<keras.callbacks.History at 0x7f67f8b2d350>"
            ]
          },
          "metadata": {},
          "execution_count": 120
        }
      ]
    },
    {
      "cell_type": "code",
      "source": [
        "#Create the testing dataset\n",
        "test_data = scaled_data[training_data_len - 60: , :]\n",
        "#Creatin x_test and y_test\n",
        "x_test = []\n",
        "y_test = dataset[training_data_len:, :]\n",
        "\n",
        "for i in range(60, len(test_data)):\n",
        "  x_test.append(test_data[i-60:i,0])"
      ],
      "metadata": {
        "id": "_B2I8Ra4lEzx"
      },
      "execution_count": 121,
      "outputs": []
    },
    {
      "cell_type": "code",
      "source": [
        "#Convert the data to numpy array\n",
        "x_test = np.array(x_test)"
      ],
      "metadata": {
        "id": "BbtVYbF6mCMG"
      },
      "execution_count": 122,
      "outputs": []
    },
    {
      "cell_type": "code",
      "source": [
        "#Reshape the data(LSTM expects 2 dimensional data so we gotta reshape the 3 dimensional data)\n",
        "x_test = np.reshape(x_test,(x_test.shape[0],x_test.shape[1],1))"
      ],
      "metadata": {
        "id": "dR7POCx0mL6q"
      },
      "execution_count": 123,
      "outputs": []
    },
    {
      "cell_type": "code",
      "source": [
        "#Get the models predicted price values\n",
        "predictions = model.predict(x_test)\n",
        "predictions = scaler.inverse_transform(predictions)"
      ],
      "metadata": {
        "id": "bdPGzeTzmoK_"
      },
      "execution_count": 124,
      "outputs": []
    },
    {
      "cell_type": "code",
      "source": [
        "#Get the RMSE\n",
        "rmse = np.sqrt(np.mean(predictions - y_test)**2)\n",
        "rmse"
      ],
      "metadata": {
        "colab": {
          "base_uri": "https://localhost:8080/"
        },
        "id": "mh732h_Jn7k0",
        "outputId": "e5a8b03c-c780-4a9c-c9cc-76976d61c87a"
      },
      "execution_count": 125,
      "outputs": [
        {
          "output_type": "execute_result",
          "data": {
            "text/plain": [
              "0.7961624361944537"
            ]
          },
          "metadata": {},
          "execution_count": 125
        }
      ]
    },
    {
      "cell_type": "code",
      "source": [
        "#Plot the data\n",
        "train = close_data[:training_data_len]\n",
        "valid = close_data[training_data_len:]\n",
        "valid['Predictions'] = predictions"
      ],
      "metadata": {
        "colab": {
          "base_uri": "https://localhost:8080/"
        },
        "id": "Z7_2VncSoQv5",
        "outputId": "e143e8dd-12e7-4856-9fc1-6bfae82f5160"
      },
      "execution_count": 126,
      "outputs": [
        {
          "output_type": "stream",
          "name": "stderr",
          "text": [
            "/usr/local/lib/python3.7/dist-packages/ipykernel_launcher.py:4: SettingWithCopyWarning: \n",
            "A value is trying to be set on a copy of a slice from a DataFrame.\n",
            "Try using .loc[row_indexer,col_indexer] = value instead\n",
            "\n",
            "See the caveats in the documentation: https://pandas.pydata.org/pandas-docs/stable/user_guide/indexing.html#returning-a-view-versus-a-copy\n",
            "  after removing the cwd from sys.path.\n"
          ]
        }
      ]
    },
    {
      "cell_type": "code",
      "source": [
        "#Visualize the data\n",
        "plt.figure(figsize=(16,8))\n",
        "plt.title('Model')\n",
        "plt.xlabel('Date',fontsize=18)\n",
        "plt.ylabel('Close Price USD',fontsize=18)\n",
        "plt.plot(train['Close'])\n",
        "plt.plot(valid[['Close','Predictions']])\n",
        "plt.legend(['Train','Val','Predictions'], loc='lower right')\n",
        "plt.show()"
      ],
      "metadata": {
        "colab": {
          "base_uri": "https://localhost:8080/",
          "height": 558
        },
        "id": "ThoD6zCTqrUJ",
        "outputId": "cb31f319-aebf-4850-905f-6939d9dafd42"
      },
      "execution_count": 127,
      "outputs": [
        {
          "output_type": "display_data",
          "data": {
            "text/plain": [
              "<Figure size 1152x576 with 1 Axes>"
            ],
            "image/png": "[encoded data removed]"
          },
          "metadata": {}
        }
      ]
    },
    {
      "cell_type": "markdown",
      "source": [
        "#Yoooo!! The model  is decently accurate!\n",
        "(at the time of writing this, the rmse was 0.7961624361944537 )\n",
        "\n",
        "This is subject to change if you rerun the code."
      ],
      "metadata": {
        "id": "3VKeyt3Vr0qn"
      }
    },
    {
      "cell_type": "code",
      "source": [
        "#Show the valid and predicted prices\n",
        "valid"
      ],
      "metadata": {
        "colab": {
          "base_uri": "https://localhost:8080/",
          "height": 498
        },
        "id": "9S3F2bWUsAsL",
        "outputId": "f72063a3-53f5-4628-9d5d-c450e75d5747"
      },
      "execution_count": 128,
      "outputs": [
        {
          "output_type": "execute_result",
          "data": {
            "text/plain": [
              "                 Close  Predictions\n",
              "Date                               \n",
              "2021-06-29  136.330002   135.967285\n",
              "2021-06-30  136.960007   136.547714\n",
              "2021-07-01  137.270004   137.183701\n",
              "2021-07-02  139.960007   137.819580\n",
              "2021-07-06  142.020004   138.630478\n",
              "...                ...          ...\n",
              "2022-08-04  165.809998   159.768356\n",
              "2022-08-05  165.350006   161.068680\n",
              "2022-08-08  164.869995   162.213516\n",
              "2022-08-09  164.919998   163.130280\n",
              "2022-08-10  168.085007   163.843735\n",
              "\n",
              "[282 rows x 2 columns]"
            ],
            "text/html": [
              "\n",
              "  <div id=\"df-47f33f2c-3788-4987-9984-ff6462ec2d93\">\n",
              "    <div class=\"colab-df-container\">\n",
              "      <div>\n",
              "<style scoped>\n",
              "    .dataframe tbody tr th:only-of-type {\n",
              "        vertical-align: middle;\n",
              "    }\n",
              "\n",
              "    .dataframe tbody tr th {\n",
              "        vertical-align: top;\n",
              "    }\n",
              "\n",
              "    .dataframe thead th {\n",
              "        text-align: right;\n",
              "    }\n",
              "</style>\n",
              "<table border=\"1\" class=\"dataframe\">\n",
              "  <thead>\n",
              "    <tr style=\"text-align: right;\">\n",
              "      <th></th>\n",
              "      <th>Close</th>\n",
              "      <th>Predictions</th>\n",
              "    </tr>\n",
              "    <tr>\n",
              "      <th>Date</th>\n",
              "      <th></th>\n",
              "      <th></th>\n",
              "    </tr>\n",
              "  </thead>\n",
              "  <tbody>\n",
              "    <tr>\n",
              "      <th>2021-06-29</th>\n",
              "      <td>136.330002</td>\n",
              "      <td>135.967285</td>\n",
              "    </tr>\n",
              "    <tr>\n",
              "      <th>2021-06-30</th>\n",
              "      <td>136.960007</td>\n",
              "      <td>136.547714</td>\n",
              "    </tr>\n",
              "    <tr>\n",
              "      <th>2021-07-01</th>\n",
              "      <td>137.270004</td>\n",
              "      <td>137.183701</td>\n",
              "    </tr>\n",
              "    <tr>\n",
              "      <th>2021-07-02</th>\n",
              "      <td>139.960007</td>\n",
              "      <td>137.819580</td>\n",
              "    </tr>\n",
              "    <tr>\n",
              "      <th>2021-07-06</th>\n",
              "      <td>142.020004</td>\n",
              "      <td>138.630478</td>\n",
              "    </tr>\n",
              "    <tr>\n",
              "      <th>...</th>\n",
              "      <td>...</td>\n",
              "      <td>...</td>\n",
              "    </tr>\n",
              "    <tr>\n",
              "      <th>2022-08-04</th>\n",
              "      <td>165.809998</td>\n",
              "      <td>159.768356</td>\n",
              "    </tr>\n",
              "    <tr>\n",
              "      <th>2022-08-05</th>\n",
              "      <td>165.350006</td>\n",
              "      <td>161.068680</td>\n",
              "    </tr>\n",
              "    <tr>\n",
              "      <th>2022-08-08</th>\n",
              "      <td>164.869995</td>\n",
              "      <td>162.213516</td>\n",
              "    </tr>\n",
              "    <tr>\n",
              "      <th>2022-08-09</th>\n",
              "      <td>164.919998</td>\n",
              "      <td>163.130280</td>\n",
              "    </tr>\n",
              "    <tr>\n",
              "      <th>2022-08-10</th>\n",
              "      <td>168.085007</td>\n",
              "      <td>163.843735</td>\n",
              "    </tr>\n",
              "  </tbody>\n",
              "</table>\n",
              "<p>282 rows × 2 columns</p>\n",
              "</div>\n",
              "      <button class=\"colab-df-convert\" onclick=\"convertToInteractive('df-47f33f2c-3788-4987-9984-ff6462ec2d93')\"\n",
              "              title=\"Convert this dataframe to an interactive table.\"\n",
              "              style=\"display:none;\">\n",
              "        \n",
              "  <svg xmlns=\"http://www.w3.org/2000/svg\" height=\"24px\"viewBox=\"0 0 24 24\"\n",
              "       width=\"24px\">\n",
              "    <path d=\"M0 0h24v24H0V0z\" fill=\"none\"/>\n",
              "    <path d=\"M18.56 5.44l.94 2.06.94-2.06 2.06-.94-2.06-.94-.94-2.06-.94 2.06-2.06.94zm-11 1L8.5 8.5l.94-2.06 2.06-.94-2.06-.94L8.5 2.5l-.94 2.06-2.06.94zm10 10l.94 2.06.94-2.06 2.06-.94-2.06-.94-.94-2.06-.94 2.06-2.06.94z\"/><path d=\"M17.41 7.96l-1.37-1.37c-.4-.4-.92-.59-1.43-.59-.52 0-1.04.2-1.43.59L10.3 9.45l-7.72 7.72c-.78.78-.78 2.05 0 2.83L4 21.41c.39.39.9.59 1.41.59.51 0 1.02-.2 1.41-.59l7.78-7.78 2.81-2.81c.8-.78.8-2.07 0-2.86zM5.41 20L4 18.59l7.72-7.72 1.47 1.35L5.41 20z\"/>\n",
              "  </svg>\n",
              "      </button>\n",
              "      \n",
              "  <style>\n",
              "    .colab-df-container {\n",
              "      display:flex;\n",
              "      flex-wrap:wrap;\n",
              "      gap: 12px;\n",
              "    }\n",
              "\n",
              "    .colab-df-convert {\n",
              "      background-color: #E8F0FE;\n",
              "      border: none;\n",
              "      border-radius: 50%;\n",
              "      cursor: pointer;\n",
              "      display: none;\n",
              "      fill: #1967D2;\n",
              "      height: 32px;\n",
              "      padding: 0 0 0 0;\n",
              "      width: 32px;\n",
              "    }\n",
              "\n",
              "    .colab-df-convert:hover {\n",
              "      background-color: #E2EBFA;\n",
              "      box-shadow: 0px 1px 2px rgba(60, 64, 67, 0.3), 0px 1px 3px 1px rgba(60, 64, 67, 0.15);\n",
              "      fill: #174EA6;\n",
              "    }\n",
              "\n",
              "    [theme=dark] .colab-df-convert {\n",
              "      background-color: #3B4455;\n",
              "      fill: #D2E3FC;\n",
              "    }\n",
              "\n",
              "    [theme=dark] .colab-df-convert:hover {\n",
              "      background-color: #434B5C;\n",
              "      box-shadow: 0px 1px 3px 1px rgba(0, 0, 0, 0.15);\n",
              "      filter: drop-shadow(0px 1px 2px rgba(0, 0, 0, 0.3));\n",
              "      fill: #FFFFFF;\n",
              "    }\n",
              "  </style>\n",
              "\n",
              "      <script>\n",
              "        const buttonEl =\n",
              "          document.querySelector('#df-47f33f2c-3788-4987-9984-ff6462ec2d93 button.colab-df-convert');\n",
              "        buttonEl.style.display =\n",
              "          google.colab.kernel.accessAllowed ? 'block' : 'none';\n",
              "\n",
              "        async function convertToInteractive(key) {\n",
              "          const element = document.querySelector('#df-47f33f2c-3788-4987-9984-ff6462ec2d93');\n",
              "          const dataTable =\n",
              "            await google.colab.kernel.invokeFunction('convertToInteractive',\n",
              "                                                     [key], {});\n",
              "          if (!dataTable) return;\n",
              "\n",
              "          const docLinkHtml = 'Like what you see? Visit the ' +\n",
              "            '<a target=\"_blank\" href=https://colab.research.google.com/notebooks/data_table.ipynb>data table notebook</a>'\n",
              "            + ' to learn more about interactive tables.';\n",
              "          element.innerHTML = '';\n",
              "          dataTable['output_type'] = 'display_data';\n",
              "          await google.colab.output.renderOutput(dataTable, element);\n",
              "          const docLink = document.createElement('div');\n",
              "          docLink.innerHTML = docLinkHtml;\n",
              "          element.appendChild(docLink);\n",
              "        }\n",
              "      </script>\n",
              "    </div>\n",
              "  </div>\n",
              "  "
            ]
          },
          "metadata": {},
          "execution_count": 128
        }
      ]
    }
  ]
}